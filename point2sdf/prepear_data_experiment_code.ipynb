{
 "cells": [
  {
   "cell_type": "code",
   "execution_count": 4,
   "metadata": {},
   "outputs": [],
   "source": [
    "import pymeshlab\n",
    "import os\n",
    "ms = pymeshlab.MeshSet()"
   ]
  },
  {
   "cell_type": "code",
   "execution_count": 3,
   "metadata": {},
   "outputs": [
    {
     "ename": "NameError",
     "evalue": "name 'os' is not defined",
     "output_type": "error",
     "traceback": [
      "\u001b[0;31m---------------------------------------------------------------------------\u001b[0m",
      "\u001b[0;31mNameError\u001b[0m                                 Traceback (most recent call last)",
      "Cell \u001b[0;32mIn[3], line 3\u001b[0m\n\u001b[1;32m      1\u001b[0m ms\u001b[38;5;241m.\u001b[39mload_new_mesh(\u001b[38;5;124m'\u001b[39m\u001b[38;5;124m/home/shuyumo/research/GAO/dataset/100013/textured_objs/original-11.obj\u001b[39m\u001b[38;5;124m'\u001b[39m)\n\u001b[1;32m      2\u001b[0m ms\u001b[38;5;241m.\u001b[39msave_current_mesh(\u001b[38;5;124m'\u001b[39m\u001b[38;5;124moutput/convex_hull.off\u001b[39m\u001b[38;5;124m'\u001b[39m)\n\u001b[0;32m----> 3\u001b[0m \u001b[43mos\u001b[49m\u001b[38;5;241m.\u001b[39msystem(\u001b[38;5;124m\"\u001b[39m\u001b[38;5;124mcp -r output /mnt/d/Research/output\u001b[39m\u001b[38;5;124m\"\u001b[39m)\n",
      "\u001b[0;31mNameError\u001b[0m: name 'os' is not defined"
     ]
    }
   ],
   "source": [
    "ms.load_new_mesh('/home/shuyumo/research/GAO/dataset/100013/textured_objs/original-11.obj')\n",
    "ms.save_current_mesh('output/convex_hull.off')\n",
    "os.system(\"cp -r output /mnt/d/Research/output\")"
   ]
  }
 ],
 "metadata": {
  "kernelspec": {
   "display_name": "gao",
   "language": "python",
   "name": "python3"
  },
  "language_info": {
   "codemirror_mode": {
    "name": "ipython",
    "version": 3
   },
   "file_extension": ".py",
   "mimetype": "text/x-python",
   "name": "python",
   "nbconvert_exporter": "python",
   "pygments_lexer": "ipython3",
   "version": "3.11.9"
  }
 },
 "nbformat": 4,
 "nbformat_minor": 2
}

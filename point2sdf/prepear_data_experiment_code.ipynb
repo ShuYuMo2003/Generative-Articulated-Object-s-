{
 "cells": [
  {
   "cell_type": "code",
   "execution_count": 4,
   "metadata": {},
   "outputs": [],
   "source": [
    "import pymeshlab\n",
    "import os\n",
    "ms = pymeshlab.MeshSet()"
   ]
  },
  {
   "cell_type": "code",
   "execution_count": 5,
   "metadata": {},
   "outputs": [
    {
     "data": {
      "text/plain": [
       "0"
      ]
     },
     "execution_count": 5,
     "metadata": {},
     "output_type": "execute_result"
    }
   ],
   "source": [
    "ms.load_new_mesh('/home/shuyumo/research/GAO/dataset/100013/textured_objs/original-11.obj')\n",
    "ms.save_current_mesh('output/convex_hull.off')\n",
    "os.system(\"cp -r output /mnt/d/Research/output\")"
   ]
  },
  {
   "cell_type": "code",
   "execution_count": 5,
   "metadata": {},
   "outputs": [
    {
     "name": "stdout",
     "output_type": "stream",
     "text": [
      "[[-0.3806    0.01117  -0.0605  ]\n",
      " [ 0.425     0.1401    0.2034  ]\n",
      " [ 0.2473    0.2155    0.4243  ]\n",
      " ...\n",
      " [-0.1991    0.1327    0.4329  ]\n",
      " [-0.04477   0.011215  0.3782  ]\n",
      " [-0.001704 -0.2212    0.2512  ]] <class 'numpy.ndarray'> (100000, 3)\n",
      "[[-0.00454 -1.       0.01956]\n",
      " [-0.8936   0.0638  -0.4448 ]\n",
      " [-0.45     0.805   -0.3862 ]\n",
      " ...\n",
      " [ 0.1244   0.1702  -0.9775 ]\n",
      " [-0.00833 -0.998    0.05978]\n",
      " [ 0.01089 -0.995    0.09595]] <class 'numpy.ndarray'> (100000, 3)\n",
      "[-0.07502   -0.6697445 -0.017568 ] <class 'numpy.ndarray'> (3,)\n",
      "0.08655 <class 'numpy.ndarray'> ()\n"
     ]
    }
   ],
   "source": [
    "import numpy as np\n",
    "\n",
    "from pathlib import Path\n",
    "cloudpoint = np.load('/home/shuyumo/research/GAO/point2sdf/output/pointcloud/original-2.npz')\n",
    "points = cloudpoint['points']\n",
    "normal = cloudpoint['normals']\n",
    "loc    = cloudpoint['loc']\n",
    "scale  = cloudpoint['scale']\n",
    "print(points, type(points), points.shape)\n",
    "print(normal, type(normal), normal.shape)\n",
    "print(loc,    type(loc),   loc.shape)\n",
    "print(scale,    type(scale),   scale.shape)"
   ]
  },
  {
   "cell_type": "code",
   "execution_count": 9,
   "metadata": {},
   "outputs": [
    {
     "name": "stdout",
     "output_type": "stream",
     "text": [
      "NpzFile '/home/shuyumo/research/GAO/point2sdf/output/point/original-2.npz' with keys: points, occupancies, loc, scale\n",
      "[[ 0.0583  -0.05093  0.4734 ]\n",
      " [ 0.04303  0.404   -0.0713 ]\n",
      " [-0.3723  -0.5303   0.3706 ]\n",
      " ...\n",
      " [ 0.268   -0.376   -0.4092 ]\n",
      " [ 0.2524   0.01756 -0.3142 ]\n",
      " [ 0.521    0.1813  -0.0718 ]] <class 'numpy.ndarray'> (100000, 3)\n",
      "[0 0 0 ... 0 0 0] <class 'numpy.ndarray'> (12500,)\n",
      "[-0.07502   -0.6697445 -0.017568 ] <class 'numpy.ndarray'> (3,)\n",
      "0.08655 <class 'numpy.ndarray'> ()\n"
     ]
    }
   ],
   "source": [
    "import numpy as np\n",
    "\n",
    "from pathlib import Path\n",
    "samplepoint = np.load('/home/shuyumo/research/GAO/point2sdf/output/point/original-2.npz')\n",
    "print(samplepoint)\n",
    "points = samplepoint['points']\n",
    "occ    = samplepoint['occupancies']\n",
    "loc    = samplepoint['loc']\n",
    "scale  = samplepoint['scale']\n",
    "print(points, type(points), points.shape)\n",
    "print(occ, type(occ), occ.shape)\n",
    "for idx, d in enumerate(occ):\n",
    "    print(idx, d)\n",
    "print(loc,    type(loc),   loc.shape)\n",
    "print(scale,    type(scale),   scale.shape)"
   ]
  }
 ],
 "metadata": {
  "kernelspec": {
   "display_name": "gao",
   "language": "python",
   "name": "python3"
  },
  "language_info": {
   "codemirror_mode": {
    "name": "ipython",
    "version": 3
   },
   "file_extension": ".py",
   "mimetype": "text/x-python",
   "name": "python",
   "nbconvert_exporter": "python",
   "pygments_lexer": "ipython3",
   "version": "3.11.9"
  }
 },
 "nbformat": 4,
 "nbformat_minor": 2
}
